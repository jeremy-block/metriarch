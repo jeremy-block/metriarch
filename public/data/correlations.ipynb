{
 "cells": [
  {
   "cell_type": "markdown",
   "metadata": {},
   "source": [
    "# Some Experiments in Correlation and Sorting Matrices"
   ]
  },
  {
   "cell_type": "code",
   "execution_count": 2,
   "metadata": {},
   "outputs": [
    {
     "name": "stdout",
     "output_type": "stream",
     "text": [
      "[[ 1.          0.07728112  0.38783087 -0.61705212  0.57560937]\n",
      " [ 0.07728112  1.          0.73848658  0.38617619  0.29781032]\n",
      " [ 0.38783087  0.73848658  1.         -0.28594208  0.85471571]\n",
      " [-0.61705212  0.38617619 -0.28594208  1.         -0.73990471]\n",
      " [ 0.57560937  0.29781032  0.85471571 -0.73990471  1.        ]]\n",
      "Highest correlation is between row 2 and column 4: 0.8547157051041867\n"
     ]
    }
   ],
   "source": [
    "import numpy as np\n",
    "\n",
    "# Generate a random matrix for demonstration\n",
    "np.random.seed(0)\n",
    "matrix = np.random.rand(5, 5)\n",
    "\n",
    "# Calculate the correlation matrix\n",
    "correlation_matrix = np.corrcoef(matrix)\n",
    "print(correlation_matrix)\n",
    "\n",
    "# Get the dimensions of the matrix\n",
    "n_rows, n_columns = matrix.shape\n",
    "\n",
    "# Initialize variables to keep track of the highest correlation values and their indices\n",
    "max_corr = 0\n",
    "max_row = -1\n",
    "max_col = -1\n",
    "\n",
    "# Loop through the upper triangle of the correlation matrix to find the highest correlation\n",
    "for row in range(n_rows):\n",
    "    for col in range(row + 1, n_columns):\n",
    "        corr = correlation_matrix[row, col]\n",
    "        if abs(corr) > abs(max_corr):\n",
    "            max_corr = corr\n",
    "            max_row = row\n",
    "            max_col = col\n",
    "\n",
    "# Print the result\n",
    "print(f\"Highest correlation is between row {max_row} and column {max_col}: {max_corr}\")"
   ]
  },
  {
   "cell_type": "code",
   "execution_count": 4,
   "metadata": {},
   "outputs": [
    {
     "name": "stdout",
     "output_type": "stream",
     "text": [
      "[[ 1.          0.07728112  0.38783087 -0.61705212  0.57560937]\n",
      " [ 0.07728112  1.          0.73848658  0.38617619  0.29781032]\n",
      " [ 0.38783087  0.73848658  1.         -0.28594208  0.85471571]\n",
      " [-0.61705212  0.38617619 -0.28594208  1.         -0.73990471]\n",
      " [ 0.57560937  0.29781032  0.85471571 -0.73990471  1.        ]]\n",
      "#1: Row 2 and Column 4 - Correlation: 0.8547157051041867\n",
      "#2: Row 3 and Column 4 - Correlation: -0.739904711857788\n",
      "#3: Row 1 and Column 2 - Correlation: 0.7384865841088747\n",
      "#4: Row 0 and Column 3 - Correlation: -0.6170521204286958\n",
      "#5: Row 0 and Column 4 - Correlation: 0.5756093686930877\n",
      "#6: Row 0 and Column 2 - Correlation: 0.3878308748907127\n",
      "#7: Row 1 and Column 3 - Correlation: 0.3861761863648693\n",
      "#8: Row 1 and Column 4 - Correlation: 0.29781031915286\n",
      "#9: Row 2 and Column 3 - Correlation: -0.2859420769068527\n",
      "#10: Row 0 and Column 1 - Correlation: 0.07728111752883252\n"
     ]
    }
   ],
   "source": [
    "if \"np\" not in globals():\n",
    "    import numpy as np\n",
    "\n",
    "# Generate a random matrix for demonstration\n",
    "np.random.seed(0)\n",
    "matrix = np.random.rand(5, 5)\n",
    "\n",
    "# Calculate the correlation matrix\n",
    "correlation_matrix = np.corrcoef(matrix)\n",
    "print(correlation_matrix)\n",
    "\n",
    "\n",
    "# Get the dimensions of the matrix\n",
    "n_rows, n_columns = matrix.shape\n",
    "\n",
    "# Initialize a list to store correlation values and their corresponding indices\n",
    "correlation_list = []\n",
    "\n",
    "# Loop through the upper triangle of the correlation matrix to find and store correlations\n",
    "for row in range(n_rows):\n",
    "    for col in range(row + 1, n_columns):\n",
    "        corr = correlation_matrix[row, col]\n",
    "        correlation_list.append((row, col, corr))\n",
    "\n",
    "# Sort the list in descending order of correlation values\n",
    "correlation_list.sort(key=lambda x: abs(x[2]), reverse=True)\n",
    "\n",
    "# Print the sorted list\n",
    "for i, (row, col, corr) in enumerate(correlation_list):\n",
    "    print(f\"#{i + 1}: Row {row} and Column {col} - Correlation: {corr}\")"
   ]
  }
 ],
 "metadata": {
  "kernelspec": {
   "display_name": "metrics",
   "language": "python",
   "name": "python3"
  },
  "language_info": {
   "codemirror_mode": {
    "name": "ipython",
    "version": 3
   },
   "file_extension": ".py",
   "mimetype": "text/x-python",
   "name": "python",
   "nbconvert_exporter": "python",
   "pygments_lexer": "ipython3",
   "version": "3.10.0"
  }
 },
 "nbformat": 4,
 "nbformat_minor": 2
}
